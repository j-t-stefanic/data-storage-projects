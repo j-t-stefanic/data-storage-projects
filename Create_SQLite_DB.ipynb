{
 "cells": [
  {
   "cell_type": "code",
   "execution_count": 1,
   "id": "17362144-df69-46f0-a340-9527ce6fe084",
   "metadata": {},
   "outputs": [
    {
     "name": "stdout",
     "output_type": "stream",
     "text": [
      "Successfully Connected To SQLite\n",
      "Successfully Created SQLite new database\n",
      "SQLITE table created SqliteDB_programmers\n",
      "Successfully Closed Connection\n"
     ]
    }
   ],
   "source": [
    "import pandas as pd\n",
    "import sqlite3\n",
    "\n",
    "\n",
    "try:\n",
    "    sqliteConnection = sqlite3.connect('C:\\\\SQLITE3\\\\databases\\\\mySQLite_database.db')\n",
    "    sqlite_create_table_query = '''CREATE TABLE SqliteDB_programmers (id INTEGER PRIMARY KEY, \n",
    "    name TEXT NOT NULL, \n",
    "    email TEXT NOT NULL UNIQUE,\n",
    "    join_date datetime);'''\n",
    "\n",
    "    cursor = sqliteConnection.cursor()\n",
    "    print(\"Successfully Connected To SQLite\")\n",
    "    print(\"Successfully Created SQLite new database\")    \n",
    "    cursor.execute(sqlite_create_table_query)\n",
    "    sqliteConnection.commit()\n",
    "    print(\"SQLITE table created SqliteDB_programmers\")\n",
    "\n",
    "    cursor.close()\n",
    "\n",
    "except sqlite3.Error as error:\n",
    "    print(\"Error while creating a sqlite table\", error)\n",
    "finally:\n",
    "    if sqliteConnection:\n",
    "        sqliteConnection.close()\n",
    "        print(\"Successfully Closed Connection\")"
   ]
  },
  {
   "cell_type": "code",
   "execution_count": null,
   "id": "17cc8aca-13e0-4f14-9bd6-9a22a16db4f1",
   "metadata": {},
   "outputs": [],
   "source": []
  }
 ],
 "metadata": {
  "kernelspec": {
   "display_name": "Python 3 (ipykernel)",
   "language": "python",
   "name": "python3"
  },
  "language_info": {
   "codemirror_mode": {
    "name": "ipython",
    "version": 3
   },
   "file_extension": ".py",
   "mimetype": "text/x-python",
   "name": "python",
   "nbconvert_exporter": "python",
   "pygments_lexer": "ipython3",
   "version": "3.13.5"
  }
 },
 "nbformat": 4,
 "nbformat_minor": 5
}
